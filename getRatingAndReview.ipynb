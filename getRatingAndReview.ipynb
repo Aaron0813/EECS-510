{
 "cells": [
  {
   "cell_type": "code",
   "execution_count": 53,
   "metadata": {},
   "outputs": [
    {
     "name": "stdout",
     "output_type": "stream",
     "text": [
      "we have completely loaded all\n",
      "\n"
     ]
    }
   ],
   "source": [
    "from selenium import webdriver\n",
    "browser =  webdriver.Chrome(executable_path='/Users/tingying/Desktop/class spring 2019/510 media mining/crawler/chromedriver') # =webdriver.Firefox(executable_path='/Applications/Firefox.app/Contents/MacOS/firefox')\n",
    "browser.get(\"https://www.imdb.com/title/tt0384680/reviews?ref_=tt_urv\")\n",
    "\n",
    "#######Sort the review by date descendingly\n",
    "from selenium.webdriver.support.ui import Select\n",
    "sort = Select(browser.find_element_by_name('sort'))\n",
    "#print(sort.options)\n",
    "sort.select_by_value('submissionDate')\n",
    "order = browser.find_element_by_class_name('descending')\n",
    "order.click()\n",
    "\n",
    "#######Click on the load more\n",
    "import time\n",
    "loadMoreButtonExists = True\n",
    "while loadMoreButtonExists:\n",
    "    try:\n",
    "        element = browser.find_element_by_id('load-more-trigger')\n",
    "        #browser.execute_script(\"return arguments[0].scrollIntoView();\", element)\n",
    "        time.sleep(1)\n",
    "        element.click()\n",
    "    except:\n",
    "        print('we have completely loaded all\\n')\n",
    "        loadMoreButtonExists = False\n"
   ]
  },
  {
   "cell_type": "code",
   "execution_count": 74,
   "metadata": {},
   "outputs": [
    {
     "name": "stdout",
     "output_type": "stream",
     "text": [
      "30\n"
     ]
    }
   ],
   "source": [
    "source = browser.page_source\n",
    "from bs4 import BeautifulSoup as Soup\n",
    "import warnings\n",
    "reviewWrite = open('tt0384680.txt','w+')\n",
    "#warnings.filterwarnings('ignore')\n",
    "soup = Soup(source)\n",
    "numberOfRates = 29\n",
    "count = 0\n",
    "for review in soup.find_all('div',class_='review-container'):\n",
    "    r = review.find_all('span', class_='rating-other-user-rating')\n",
    "    #r = review.find_all('span')\n",
    "    t = review.find_all('div', class_='text')\n",
    "    spoil = review.find_all('span', class_='spoiler-warning')\n",
    "    if r and not spoil:\n",
    "        #print(r[0].text,'\\n', t[0].text, '\\n\\n')\n",
    "        reviewWrite.write(r[0].text)\n",
    "        reviewWrite.write(t[0].text)\n",
    "        count = count + 1\n",
    "        if count > numberOfRates:\n",
    "            break\n",
    "reviewWrite = open('tt0384680.txt','w+')\n",
    "count = 0\n",
    "for review in soup.find_all('div',class_='review-container'):\n",
    "    r = review.find_all('span', class_='rating-other-user-rating')\n",
    "    #r = review.find_all('span')\n",
    "    t = review.find_all('div', class_='text')\n",
    "    spoil = review.find_all('span', class_='spoiler-warning')\n",
    "    if r and not spoil:\n",
    "        #print(r[0].text,'\\n', t[0].text, '\\n\\n')\n",
    "        reviewWrite.write(r[0].text)\n",
    "        reviewWrite.write(t[0].text)\n",
    "        count = count + 1\n",
    "        if count > numberOfRates:\n",
    "            break\n",
    "print(count)"
   ]
  },
  {
   "cell_type": "code",
   "execution_count": null,
   "metadata": {},
   "outputs": [],
   "source": []
  }
 ],
 "metadata": {
  "kernelspec": {
   "display_name": "Python 3",
   "language": "python",
   "name": "python3"
  },
  "language_info": {
   "codemirror_mode": {
    "name": "ipython",
    "version": 3
   },
   "file_extension": ".py",
   "mimetype": "text/x-python",
   "name": "python",
   "nbconvert_exporter": "python",
   "pygments_lexer": "ipython3",
   "version": "3.7.1"
  }
 },
 "nbformat": 4,
 "nbformat_minor": 2
}
